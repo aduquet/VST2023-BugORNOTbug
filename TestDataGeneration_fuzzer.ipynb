{
 "cells": [
  {
   "cell_type": "code",
   "execution_count": 1,
   "metadata": {},
   "outputs": [],
   "source": [
    "import matplotlib.pyplot as plt\n",
    "import pandas as pd\n",
    "import numpy as np\n",
    "import pandas as pd\n",
    "import matplotlib.pyplot as plt\n",
    "import seaborn as sns\n",
    "import statsmodels.api as sm\n",
    "import scipy.stats as stats\n",
    "import random"
   ]
  },
  {
   "cell_type": "code",
   "execution_count": 2,
   "metadata": {},
   "outputs": [],
   "source": [
    "def fuzzer(low, high, size):\n",
    "    return np.random.uniform(low=low, high=high, size=(size,)).astype(int) "
   ]
  },
  {
   "cell_type": "code",
   "execution_count": 3,
   "metadata": {},
   "outputs": [],
   "source": [
    "a = list(fuzzer(0, 10, 100))\n",
    "b = list(fuzzer(0, 10, 100))\n",
    "constant = fuzzer(1, 10, 1)[0]"
   ]
  },
  {
   "cell_type": "code",
   "execution_count": 4,
   "metadata": {},
   "outputs": [],
   "source": [
    "mainDic = {}\n",
    "mainDicList = []"
   ]
  },
  {
   "cell_type": "code",
   "execution_count": 5,
   "metadata": {},
   "outputs": [],
   "source": [
    "if len(a) == len(b):\n",
    "    for i in range(0, len(a)):\n",
    "        mainDic = {'(a,b)': '(' + str(a[i]) + ',' + str(b[i]) + ')', 'input_a': a[i], 'input_b': b[i], 'operand': 'sum', 'const' : constant}\n",
    "        mainDicList.append(mainDic)\n"
   ]
  },
  {
   "cell_type": "code",
   "execution_count": 6,
   "metadata": {},
   "outputs": [],
   "source": [
    "mainDicSub = {}\n",
    "mainDicSubList = []\n",
    "if len(a) == len(b):\n",
    "    for i in range(0, len(a)):\n",
    "        mainDicSub = {'(a,b)': '(' + str(a[i]) + ',' + str(b[i]) + ')', 'input_a': a[i], 'input_b': b[i], 'operand': 'sub', 'const' : constant}\n",
    "        mainDicSubList.append(mainDicSub)"
   ]
  },
  {
   "cell_type": "code",
   "execution_count": 7,
   "metadata": {},
   "outputs": [],
   "source": [
    "mainDicSub = {}\n",
    "mainDicSubList = []\n",
    "if len(a) == len(b):\n",
    "    for i in range(0, len(a)):\n",
    "        mainDicSub = {'(a,b)': '(' + str(a[i]) + ',' + str(b[i]) + ')', 'input_a': a[i], 'input_b': b[i], 'operand': 'mul', 'const' : constant}\n",
    "        mainDicSubList.append(mainDicSub)"
   ]
  },
  {
   "cell_type": "code",
   "execution_count": 8,
   "metadata": {},
   "outputs": [],
   "source": [
    "mainDicSub = {}\n",
    "mainDicSubList = []\n",
    "if len(a) == len(b):\n",
    "    for i in range(0, len(a)):\n",
    "        mainDicSub = {'(a,b)': '(' + str(a[i]) + ',' + str(b[i]) + ')', 'input_a': a[i], 'input_b': b[i], 'operand': 'div', 'const' : constant}\n",
    "        mainDicSubList.append(mainDicSub)"
   ]
  },
  {
   "cell_type": "code",
   "execution_count": 9,
   "metadata": {},
   "outputs": [],
   "source": [
    "mainDicSumSub = {}\n",
    "mainDicSumSubList = []\n",
    "if len(a) == len(b):\n",
    "    for i in range(0, len(a)):\n",
    "        # Substraction\n",
    "        mainDicSumSub = {'(a,b)': '(' + str(a[i]) + ',' + str(b[i]) + ')', 'input_a': a[i], 'input_b': b[i], 'operand': 'sub', 'const' : constant}\n",
    "        mainDicSumSubList.append(mainDicSumSub)\n",
    "        # Addition\n",
    "        mainDicSumSub = {'(a,b)': '(' + str(a[i]) + ',' + str(b[i]) + ')', 'input_a': a[i], 'input_b': b[i], 'operand': 'sum', 'const' : constant}\n",
    "        mainDicSumSubList.append(mainDicSumSub)\n",
    "        # Multiplication\n",
    "        mainDicSumSub = {'(a,b)': '(' + str(a[i]) + ',' + str(b[i]) + ')', 'input_a': a[i], 'input_b': b[i], 'operand': 'mul', 'const' : constant}\n",
    "        mainDicSumSubList.append(mainDicSumSub)\n",
    "        # Div\n",
    "        mainDicSumSub = {'(a,b)': '(' + str(a[i]) + ',' + str(b[i]) + ')', 'input_a': a[i], 'input_b': b[i], 'operand': 'div', 'const' : constant}\n",
    "        mainDicSumSubList.append(mainDicSumSub)"
   ]
  },
  {
   "cell_type": "code",
   "execution_count": 10,
   "metadata": {},
   "outputs": [],
   "source": [
    "# df_sum = pd.DataFrame(mainDicList)\n",
    "# df_sub = pd.DataFrame(mainDicSubList)\n",
    "df_sum_sub = pd.DataFrame(mainDicSumSubList)"
   ]
  },
  {
   "cell_type": "code",
   "execution_count": 11,
   "metadata": {},
   "outputs": [],
   "source": [
    "# df_sum_sub = df_sum_sub.sort_values(by=['operand']).reset_index(drop=True)"
   ]
  },
  {
   "cell_type": "code",
   "execution_count": 12,
   "metadata": {},
   "outputs": [],
   "source": [
    "# df_sum.to_csv('100_inputs_sum.csv')\n",
    "# df_sub.to_csv('100_inputs_sub.csv')\n",
    "df_sum_sub.to_csv('TestData.csv')"
   ]
  },
  {
   "cell_type": "code",
   "execution_count": 13,
   "metadata": {},
   "outputs": [],
   "source": [
    "a = 0\n",
    "b = 0\n",
    "flag = 0\n",
    "mainDicv2 = {}\n",
    "mainDicv2List = []\n",
    "\n",
    "for i in range(0,100):\n",
    "    if i != 0 :\n",
    "        a = a + 1\n",
    "\n",
    "        if flag == 1:\n",
    "            a = 0\n",
    "            flag = 0\n",
    "\n",
    "    mainDicv2 = {'(a,b)': '(' + str(a) + ',' + str(b) + ')', 'input_a': a, 'input_b': b,'const' : constant}\n",
    "    mainDicv2List.append(mainDicv2)\n",
    "\n",
    "    if a == 9:\n",
    "        a =1\n",
    "        b = b + 1\n",
    "        flag = 1\n",
    "\n",
    "    \n",
    "    \n"
   ]
  },
  {
   "cell_type": "code",
   "execution_count": 14,
   "metadata": {},
   "outputs": [],
   "source": [
    "df_controled = pd.DataFrame(mainDicv2List)\n",
    "df_controled.to_csv('controled_inputs.csv')"
   ]
  },
  {
   "cell_type": "code",
   "execution_count": 15,
   "metadata": {},
   "outputs": [
    {
     "data": {
      "text/plain": [
       "[{'(a,b)': '(0,0)', 'input_a': 0, 'input_b': 0, 'const': 6},\n",
       " {'(a,b)': '(1,0)', 'input_a': 1, 'input_b': 0, 'const': 6},\n",
       " {'(a,b)': '(2,0)', 'input_a': 2, 'input_b': 0, 'const': 6},\n",
       " {'(a,b)': '(3,0)', 'input_a': 3, 'input_b': 0, 'const': 6},\n",
       " {'(a,b)': '(4,0)', 'input_a': 4, 'input_b': 0, 'const': 6},\n",
       " {'(a,b)': '(5,0)', 'input_a': 5, 'input_b': 0, 'const': 6},\n",
       " {'(a,b)': '(6,0)', 'input_a': 6, 'input_b': 0, 'const': 6},\n",
       " {'(a,b)': '(7,0)', 'input_a': 7, 'input_b': 0, 'const': 6},\n",
       " {'(a,b)': '(8,0)', 'input_a': 8, 'input_b': 0, 'const': 6},\n",
       " {'(a,b)': '(9,0)', 'input_a': 9, 'input_b': 0, 'const': 6},\n",
       " {'(a,b)': '(0,1)', 'input_a': 0, 'input_b': 1, 'const': 6},\n",
       " {'(a,b)': '(1,1)', 'input_a': 1, 'input_b': 1, 'const': 6},\n",
       " {'(a,b)': '(2,1)', 'input_a': 2, 'input_b': 1, 'const': 6},\n",
       " {'(a,b)': '(3,1)', 'input_a': 3, 'input_b': 1, 'const': 6},\n",
       " {'(a,b)': '(4,1)', 'input_a': 4, 'input_b': 1, 'const': 6},\n",
       " {'(a,b)': '(5,1)', 'input_a': 5, 'input_b': 1, 'const': 6},\n",
       " {'(a,b)': '(6,1)', 'input_a': 6, 'input_b': 1, 'const': 6},\n",
       " {'(a,b)': '(7,1)', 'input_a': 7, 'input_b': 1, 'const': 6},\n",
       " {'(a,b)': '(8,1)', 'input_a': 8, 'input_b': 1, 'const': 6},\n",
       " {'(a,b)': '(9,1)', 'input_a': 9, 'input_b': 1, 'const': 6},\n",
       " {'(a,b)': '(0,2)', 'input_a': 0, 'input_b': 2, 'const': 6},\n",
       " {'(a,b)': '(1,2)', 'input_a': 1, 'input_b': 2, 'const': 6},\n",
       " {'(a,b)': '(2,2)', 'input_a': 2, 'input_b': 2, 'const': 6},\n",
       " {'(a,b)': '(3,2)', 'input_a': 3, 'input_b': 2, 'const': 6},\n",
       " {'(a,b)': '(4,2)', 'input_a': 4, 'input_b': 2, 'const': 6},\n",
       " {'(a,b)': '(5,2)', 'input_a': 5, 'input_b': 2, 'const': 6},\n",
       " {'(a,b)': '(6,2)', 'input_a': 6, 'input_b': 2, 'const': 6},\n",
       " {'(a,b)': '(7,2)', 'input_a': 7, 'input_b': 2, 'const': 6},\n",
       " {'(a,b)': '(8,2)', 'input_a': 8, 'input_b': 2, 'const': 6},\n",
       " {'(a,b)': '(9,2)', 'input_a': 9, 'input_b': 2, 'const': 6},\n",
       " {'(a,b)': '(0,3)', 'input_a': 0, 'input_b': 3, 'const': 6},\n",
       " {'(a,b)': '(1,3)', 'input_a': 1, 'input_b': 3, 'const': 6},\n",
       " {'(a,b)': '(2,3)', 'input_a': 2, 'input_b': 3, 'const': 6},\n",
       " {'(a,b)': '(3,3)', 'input_a': 3, 'input_b': 3, 'const': 6},\n",
       " {'(a,b)': '(4,3)', 'input_a': 4, 'input_b': 3, 'const': 6},\n",
       " {'(a,b)': '(5,3)', 'input_a': 5, 'input_b': 3, 'const': 6},\n",
       " {'(a,b)': '(6,3)', 'input_a': 6, 'input_b': 3, 'const': 6},\n",
       " {'(a,b)': '(7,3)', 'input_a': 7, 'input_b': 3, 'const': 6},\n",
       " {'(a,b)': '(8,3)', 'input_a': 8, 'input_b': 3, 'const': 6},\n",
       " {'(a,b)': '(9,3)', 'input_a': 9, 'input_b': 3, 'const': 6},\n",
       " {'(a,b)': '(0,4)', 'input_a': 0, 'input_b': 4, 'const': 6},\n",
       " {'(a,b)': '(1,4)', 'input_a': 1, 'input_b': 4, 'const': 6},\n",
       " {'(a,b)': '(2,4)', 'input_a': 2, 'input_b': 4, 'const': 6},\n",
       " {'(a,b)': '(3,4)', 'input_a': 3, 'input_b': 4, 'const': 6},\n",
       " {'(a,b)': '(4,4)', 'input_a': 4, 'input_b': 4, 'const': 6},\n",
       " {'(a,b)': '(5,4)', 'input_a': 5, 'input_b': 4, 'const': 6},\n",
       " {'(a,b)': '(6,4)', 'input_a': 6, 'input_b': 4, 'const': 6},\n",
       " {'(a,b)': '(7,4)', 'input_a': 7, 'input_b': 4, 'const': 6},\n",
       " {'(a,b)': '(8,4)', 'input_a': 8, 'input_b': 4, 'const': 6},\n",
       " {'(a,b)': '(9,4)', 'input_a': 9, 'input_b': 4, 'const': 6},\n",
       " {'(a,b)': '(0,5)', 'input_a': 0, 'input_b': 5, 'const': 6},\n",
       " {'(a,b)': '(1,5)', 'input_a': 1, 'input_b': 5, 'const': 6},\n",
       " {'(a,b)': '(2,5)', 'input_a': 2, 'input_b': 5, 'const': 6},\n",
       " {'(a,b)': '(3,5)', 'input_a': 3, 'input_b': 5, 'const': 6},\n",
       " {'(a,b)': '(4,5)', 'input_a': 4, 'input_b': 5, 'const': 6},\n",
       " {'(a,b)': '(5,5)', 'input_a': 5, 'input_b': 5, 'const': 6},\n",
       " {'(a,b)': '(6,5)', 'input_a': 6, 'input_b': 5, 'const': 6},\n",
       " {'(a,b)': '(7,5)', 'input_a': 7, 'input_b': 5, 'const': 6},\n",
       " {'(a,b)': '(8,5)', 'input_a': 8, 'input_b': 5, 'const': 6},\n",
       " {'(a,b)': '(9,5)', 'input_a': 9, 'input_b': 5, 'const': 6},\n",
       " {'(a,b)': '(0,6)', 'input_a': 0, 'input_b': 6, 'const': 6},\n",
       " {'(a,b)': '(1,6)', 'input_a': 1, 'input_b': 6, 'const': 6},\n",
       " {'(a,b)': '(2,6)', 'input_a': 2, 'input_b': 6, 'const': 6},\n",
       " {'(a,b)': '(3,6)', 'input_a': 3, 'input_b': 6, 'const': 6},\n",
       " {'(a,b)': '(4,6)', 'input_a': 4, 'input_b': 6, 'const': 6},\n",
       " {'(a,b)': '(5,6)', 'input_a': 5, 'input_b': 6, 'const': 6},\n",
       " {'(a,b)': '(6,6)', 'input_a': 6, 'input_b': 6, 'const': 6},\n",
       " {'(a,b)': '(7,6)', 'input_a': 7, 'input_b': 6, 'const': 6},\n",
       " {'(a,b)': '(8,6)', 'input_a': 8, 'input_b': 6, 'const': 6},\n",
       " {'(a,b)': '(9,6)', 'input_a': 9, 'input_b': 6, 'const': 6},\n",
       " {'(a,b)': '(0,7)', 'input_a': 0, 'input_b': 7, 'const': 6},\n",
       " {'(a,b)': '(1,7)', 'input_a': 1, 'input_b': 7, 'const': 6},\n",
       " {'(a,b)': '(2,7)', 'input_a': 2, 'input_b': 7, 'const': 6},\n",
       " {'(a,b)': '(3,7)', 'input_a': 3, 'input_b': 7, 'const': 6},\n",
       " {'(a,b)': '(4,7)', 'input_a': 4, 'input_b': 7, 'const': 6},\n",
       " {'(a,b)': '(5,7)', 'input_a': 5, 'input_b': 7, 'const': 6},\n",
       " {'(a,b)': '(6,7)', 'input_a': 6, 'input_b': 7, 'const': 6},\n",
       " {'(a,b)': '(7,7)', 'input_a': 7, 'input_b': 7, 'const': 6},\n",
       " {'(a,b)': '(8,7)', 'input_a': 8, 'input_b': 7, 'const': 6},\n",
       " {'(a,b)': '(9,7)', 'input_a': 9, 'input_b': 7, 'const': 6},\n",
       " {'(a,b)': '(0,8)', 'input_a': 0, 'input_b': 8, 'const': 6},\n",
       " {'(a,b)': '(1,8)', 'input_a': 1, 'input_b': 8, 'const': 6},\n",
       " {'(a,b)': '(2,8)', 'input_a': 2, 'input_b': 8, 'const': 6},\n",
       " {'(a,b)': '(3,8)', 'input_a': 3, 'input_b': 8, 'const': 6},\n",
       " {'(a,b)': '(4,8)', 'input_a': 4, 'input_b': 8, 'const': 6},\n",
       " {'(a,b)': '(5,8)', 'input_a': 5, 'input_b': 8, 'const': 6},\n",
       " {'(a,b)': '(6,8)', 'input_a': 6, 'input_b': 8, 'const': 6},\n",
       " {'(a,b)': '(7,8)', 'input_a': 7, 'input_b': 8, 'const': 6},\n",
       " {'(a,b)': '(8,8)', 'input_a': 8, 'input_b': 8, 'const': 6},\n",
       " {'(a,b)': '(9,8)', 'input_a': 9, 'input_b': 8, 'const': 6},\n",
       " {'(a,b)': '(0,9)', 'input_a': 0, 'input_b': 9, 'const': 6},\n",
       " {'(a,b)': '(1,9)', 'input_a': 1, 'input_b': 9, 'const': 6},\n",
       " {'(a,b)': '(2,9)', 'input_a': 2, 'input_b': 9, 'const': 6},\n",
       " {'(a,b)': '(3,9)', 'input_a': 3, 'input_b': 9, 'const': 6},\n",
       " {'(a,b)': '(4,9)', 'input_a': 4, 'input_b': 9, 'const': 6},\n",
       " {'(a,b)': '(5,9)', 'input_a': 5, 'input_b': 9, 'const': 6},\n",
       " {'(a,b)': '(6,9)', 'input_a': 6, 'input_b': 9, 'const': 6},\n",
       " {'(a,b)': '(7,9)', 'input_a': 7, 'input_b': 9, 'const': 6},\n",
       " {'(a,b)': '(8,9)', 'input_a': 8, 'input_b': 9, 'const': 6},\n",
       " {'(a,b)': '(9,9)', 'input_a': 9, 'input_b': 9, 'const': 6}]"
      ]
     },
     "execution_count": 15,
     "metadata": {},
     "output_type": "execute_result"
    }
   ],
   "source": [
    "mainDicv2List"
   ]
  },
  {
   "cell_type": "code",
   "execution_count": 16,
   "metadata": {},
   "outputs": [
    {
     "data": {
      "text/html": [
       "<div>\n",
       "<style scoped>\n",
       "    .dataframe tbody tr th:only-of-type {\n",
       "        vertical-align: middle;\n",
       "    }\n",
       "\n",
       "    .dataframe tbody tr th {\n",
       "        vertical-align: top;\n",
       "    }\n",
       "\n",
       "    .dataframe thead th {\n",
       "        text-align: right;\n",
       "    }\n",
       "</style>\n",
       "<table border=\"1\" class=\"dataframe\">\n",
       "  <thead>\n",
       "    <tr style=\"text-align: right;\">\n",
       "      <th></th>\n",
       "      <th>(a,b)</th>\n",
       "      <th>input_a</th>\n",
       "      <th>input_b</th>\n",
       "      <th>operand</th>\n",
       "      <th>const</th>\n",
       "    </tr>\n",
       "  </thead>\n",
       "  <tbody>\n",
       "    <tr>\n",
       "      <th>0</th>\n",
       "      <td>(1,8)</td>\n",
       "      <td>1</td>\n",
       "      <td>8</td>\n",
       "      <td>sub</td>\n",
       "      <td>6</td>\n",
       "    </tr>\n",
       "    <tr>\n",
       "      <th>1</th>\n",
       "      <td>(1,8)</td>\n",
       "      <td>1</td>\n",
       "      <td>8</td>\n",
       "      <td>sum</td>\n",
       "      <td>6</td>\n",
       "    </tr>\n",
       "    <tr>\n",
       "      <th>2</th>\n",
       "      <td>(1,8)</td>\n",
       "      <td>1</td>\n",
       "      <td>8</td>\n",
       "      <td>mul</td>\n",
       "      <td>6</td>\n",
       "    </tr>\n",
       "    <tr>\n",
       "      <th>3</th>\n",
       "      <td>(1,8)</td>\n",
       "      <td>1</td>\n",
       "      <td>8</td>\n",
       "      <td>div</td>\n",
       "      <td>6</td>\n",
       "    </tr>\n",
       "    <tr>\n",
       "      <th>4</th>\n",
       "      <td>(8,2)</td>\n",
       "      <td>8</td>\n",
       "      <td>2</td>\n",
       "      <td>sub</td>\n",
       "      <td>6</td>\n",
       "    </tr>\n",
       "    <tr>\n",
       "      <th>...</th>\n",
       "      <td>...</td>\n",
       "      <td>...</td>\n",
       "      <td>...</td>\n",
       "      <td>...</td>\n",
       "      <td>...</td>\n",
       "    </tr>\n",
       "    <tr>\n",
       "      <th>395</th>\n",
       "      <td>(3,6)</td>\n",
       "      <td>3</td>\n",
       "      <td>6</td>\n",
       "      <td>div</td>\n",
       "      <td>6</td>\n",
       "    </tr>\n",
       "    <tr>\n",
       "      <th>396</th>\n",
       "      <td>(4,3)</td>\n",
       "      <td>4</td>\n",
       "      <td>3</td>\n",
       "      <td>sub</td>\n",
       "      <td>6</td>\n",
       "    </tr>\n",
       "    <tr>\n",
       "      <th>397</th>\n",
       "      <td>(4,3)</td>\n",
       "      <td>4</td>\n",
       "      <td>3</td>\n",
       "      <td>sum</td>\n",
       "      <td>6</td>\n",
       "    </tr>\n",
       "    <tr>\n",
       "      <th>398</th>\n",
       "      <td>(4,3)</td>\n",
       "      <td>4</td>\n",
       "      <td>3</td>\n",
       "      <td>mul</td>\n",
       "      <td>6</td>\n",
       "    </tr>\n",
       "    <tr>\n",
       "      <th>399</th>\n",
       "      <td>(4,3)</td>\n",
       "      <td>4</td>\n",
       "      <td>3</td>\n",
       "      <td>div</td>\n",
       "      <td>6</td>\n",
       "    </tr>\n",
       "  </tbody>\n",
       "</table>\n",
       "<p>400 rows × 5 columns</p>\n",
       "</div>"
      ],
      "text/plain": [
       "     (a,b)  input_a  input_b operand  const\n",
       "0    (1,8)        1        8     sub      6\n",
       "1    (1,8)        1        8     sum      6\n",
       "2    (1,8)        1        8     mul      6\n",
       "3    (1,8)        1        8     div      6\n",
       "4    (8,2)        8        2     sub      6\n",
       "..     ...      ...      ...     ...    ...\n",
       "395  (3,6)        3        6     div      6\n",
       "396  (4,3)        4        3     sub      6\n",
       "397  (4,3)        4        3     sum      6\n",
       "398  (4,3)        4        3     mul      6\n",
       "399  (4,3)        4        3     div      6\n",
       "\n",
       "[400 rows x 5 columns]"
      ]
     },
     "execution_count": 16,
     "metadata": {},
     "output_type": "execute_result"
    }
   ],
   "source": [
    "df = df_sum_sub.copy()\n",
    "df"
   ]
  },
  {
   "cell_type": "code",
   "execution_count": 17,
   "metadata": {},
   "outputs": [],
   "source": [
    "df.drop(df[df['operand'] != 'sum'].index, inplace = True)"
   ]
  },
  {
   "cell_type": "code",
   "execution_count": 18,
   "metadata": {},
   "outputs": [
    {
     "data": {
      "text/plain": [
       "<AxesSubplot:xlabel='input_a', ylabel='count'>"
      ]
     },
     "execution_count": 18,
     "metadata": {},
     "output_type": "execute_result"
    },
    {
     "data": {
      "image/png": "[encoded data removed]",
      "text/plain": [
       "<Figure size 640x480 with 1 Axes>"
      ]
     },
     "metadata": {},
     "output_type": "display_data"
    }
   ],
   "source": [
    "sns.set_theme(style=\"whitegrid\")\n",
    "sns.countplot(x=df[\"input_a\"])"
   ]
  },
  {
   "cell_type": "code",
   "execution_count": 19,
   "metadata": {},
   "outputs": [
    {
     "data": {
      "text/plain": [
       "<AxesSubplot:xlabel='input_b', ylabel='count'>"
      ]
     },
     "execution_count": 19,
     "metadata": {},
     "output_type": "execute_result"
    },
    {
     "data": {
      "image/png": "[encoded data removed]",
      "text/plain": [
       "<Figure size 640x480 with 1 Axes>"
      ]
     },
     "metadata": {},
     "output_type": "display_data"
    }
   ],
   "source": [
    "sns.set_theme(style=\"whitegrid\")\n",
    "sns.countplot(x=df[\"input_b\"])"
   ]
  }
 ],
 "metadata": {
  "kernelspec": {
   "display_name": "Python 3.10.9 64-bit",
   "language": "python",
   "name": "python3"
  },
  "language_info": {
   "codemirror_mode": {
    "name": "ipython",
    "version": 3
   },
   "file_extension": ".py",
   "mimetype": "text/x-python",
   "name": "python",
   "nbconvert_exporter": "python",
   "pygments_lexer": "ipython3",
   "version": "3.10.9"
  },
  "orig_nbformat": 4,
  "vscode": {
   "interpreter": {
    "hash": "48c4c719a8f8197ec1ee63528d62ea8905441a86ef8b45ec6d93d6c33d686e73"
   }
  }
 },
 "nbformat": 4,
 "nbformat_minor": 2
}
