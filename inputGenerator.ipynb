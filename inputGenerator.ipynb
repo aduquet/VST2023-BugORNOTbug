{
 "cells": [
  {
   "cell_type": "code",
   "execution_count": 269,
   "metadata": {},
   "outputs": [],
   "source": [
    "import matplotlib.pyplot as plt\n",
    "import pandas as pd\n",
    "import numpy as np\n",
    "import random"
   ]
  },
  {
   "cell_type": "code",
   "execution_count": 270,
   "metadata": {},
   "outputs": [],
   "source": [
    "def fuzzer(low, high, size):\n",
    "    return np.random.uniform(low=low, high=high, size=(size,)).astype(int) "
   ]
  },
  {
   "cell_type": "code",
   "execution_count": 271,
   "metadata": {},
   "outputs": [],
   "source": [
    "a = list(fuzzer(0, 10, 100))\n",
    "b = list(fuzzer(0, 10, 100))\n",
    "operand = list(fuzzer(0, 2, 100))"
   ]
  },
  {
   "cell_type": "code",
   "execution_count": 272,
   "metadata": {},
   "outputs": [],
   "source": [
    "operand_v2 = (list(np.zeros(50, dtype= int)) + list(np.ones(50, dtype= int)))\n",
    "np.random.shuffle(operand_v2)"
   ]
  },
  {
   "cell_type": "code",
   "execution_count": 273,
   "metadata": {},
   "outputs": [],
   "source": [
    "mainDicOperand_v11 = {}\n",
    "mainDicOperand_v12 = {}\n",
    "mainDicOperand_v21 = {}\n",
    "mainDicOperand_v22 = {}\n",
    "mainDicLis_v11 = []\n",
    "mainDicLis_v12 = []\n",
    "mainDicLis_v21 = []\n",
    "mainDicLis_v22 = []\n"
   ]
  },
  {
   "cell_type": "code",
   "execution_count": 274,
   "metadata": {},
   "outputs": [],
   "source": [
    "if len(a) == len(b) == len(operand):\n",
    "    for i in range(0,len(a)):\n",
    "\n",
    "        if operand[i] == 0 :\n",
    "            mainDicOperand_v11 = {'input_a': a[i], 'input_b': b[i], 'operand': operand[i], 'operand_str': 'sum'}\n",
    "\n",
    "        if operand[i] == 1 :\n",
    "            mainDicOperand_v11 = {'input_a': a[i], 'input_b': b[i], 'operand': operand[i], 'operand_str': 'sub'}\n",
    "        \n",
    "        mainDicLis_v11.append(mainDicOperand_v11)\n",
    "\n",
    "\n",
    "        if operand[i] == 0 :\n",
    "            mainDicOperand_v12 = {'input_a': a[i], 'input_b': b[i], 'operand': operand[i], 'operand_str': 'sub'}\n",
    "\n",
    "        if operand[i] == 1 :\n",
    "            mainDicOperand_v12 = {'input_a': a[i], 'input_b': b[i], 'operand': operand[i], 'operand_str': 'sum'}\n",
    "        \n",
    "        mainDicLis_v12.append(mainDicOperand_v12)\n",
    "\n",
    "        # OPERAN Version 2\n",
    "\n",
    "        if operand_v2[i] == 0 :\n",
    "            mainDicOperand_v21 = {'input_a': a[i], 'input_b': b[i], 'operand': operand_v2[i], 'operand_str': 'sum'}\n",
    "\n",
    "        if operand_v2[i] == 1 :\n",
    "            mainDicOperand_v21 = {'input_a': a[i], 'input_b': b[i], 'operand': operand_v2[i], 'operand_str': 'sub'}\n",
    "        \n",
    "        mainDicLis_v21.append(mainDicOperand_v21)\n",
    "\n",
    "\n",
    "        if operand_v2[i] == 0 :\n",
    "            mainDicOperand_v22 = {'input_a': a[i], 'input_b': b[i], 'operand': operand_v2[i], 'operand_str': 'sub'}\n",
    "\n",
    "        if operand_v2[i] == 1 :\n",
    "            mainDicOperand_v22 = {'input_a': a[i], 'input_b': b[i], 'operand': operand_v2[i], 'operand_str': 'sum'}\n",
    "        \n",
    "        mainDicLis_v22.append(mainDicOperand_v22)\n",
    "\n"
   ]
  },
  {
   "cell_type": "code",
   "execution_count": 275,
   "metadata": {},
   "outputs": [],
   "source": [
    "df11 = pd.DataFrame(mainDicLis_v11)\n",
    "df12 = pd.DataFrame(mainDicLis_v12)\n",
    "df21 = pd.DataFrame(mainDicLis_v21)\n",
    "df22 = pd.DataFrame(mainDicLis_v22)"
   ]
  },
  {
   "cell_type": "code",
   "execution_count": 276,
   "metadata": {},
   "outputs": [],
   "source": [
    "MR2_inputData = list(fuzzer(0, 10, 100))\n",
    "MR3_inputData = list(fuzzer(0, 10, 100))\n",
    "MR4_inputData = list(fuzzer(0, 10, 100))"
   ]
  },
  {
   "cell_type": "code",
   "execution_count": 277,
   "metadata": {},
   "outputs": [],
   "source": [
    "mainDicMRs = {}\n",
    "mainDicLis_MRs = []"
   ]
  },
  {
   "cell_type": "code",
   "execution_count": 278,
   "metadata": {},
   "outputs": [],
   "source": [
    "for i in range(0, len(MR2_inputData)):\n",
    "    mainDicMRs = {'MR_2': MR2_inputData[i], 'MR_3': MR3_inputData[i], 'MR_4': MR4_inputData[i]}\n",
    "    mainDicLis_MRs.append(mainDicMRs)"
   ]
  },
  {
   "cell_type": "code",
   "execution_count": 279,
   "metadata": {},
   "outputs": [],
   "source": [
    "dfMRs = pd.DataFrame(mainDicLis_MRs)"
   ]
  },
  {
   "cell_type": "code",
   "execution_count": 280,
   "metadata": {},
   "outputs": [
    {
     "data": {
      "text/html": [
       "<div>\n",
       "<style scoped>\n",
       "    .dataframe tbody tr th:only-of-type {\n",
       "        vertical-align: middle;\n",
       "    }\n",
       "\n",
       "    .dataframe tbody tr th {\n",
       "        vertical-align: top;\n",
       "    }\n",
       "\n",
       "    .dataframe thead th {\n",
       "        text-align: right;\n",
       "    }\n",
       "</style>\n",
       "<table border=\"1\" class=\"dataframe\">\n",
       "  <thead>\n",
       "    <tr style=\"text-align: right;\">\n",
       "      <th></th>\n",
       "      <th>MR_2</th>\n",
       "      <th>MR_3</th>\n",
       "      <th>MR_4</th>\n",
       "    </tr>\n",
       "  </thead>\n",
       "  <tbody>\n",
       "    <tr>\n",
       "      <th>0</th>\n",
       "      <td>5</td>\n",
       "      <td>6</td>\n",
       "      <td>9</td>\n",
       "    </tr>\n",
       "    <tr>\n",
       "      <th>1</th>\n",
       "      <td>8</td>\n",
       "      <td>7</td>\n",
       "      <td>6</td>\n",
       "    </tr>\n",
       "    <tr>\n",
       "      <th>2</th>\n",
       "      <td>7</td>\n",
       "      <td>3</td>\n",
       "      <td>4</td>\n",
       "    </tr>\n",
       "    <tr>\n",
       "      <th>3</th>\n",
       "      <td>1</td>\n",
       "      <td>9</td>\n",
       "      <td>1</td>\n",
       "    </tr>\n",
       "    <tr>\n",
       "      <th>4</th>\n",
       "      <td>2</td>\n",
       "      <td>6</td>\n",
       "      <td>2</td>\n",
       "    </tr>\n",
       "    <tr>\n",
       "      <th>...</th>\n",
       "      <td>...</td>\n",
       "      <td>...</td>\n",
       "      <td>...</td>\n",
       "    </tr>\n",
       "    <tr>\n",
       "      <th>95</th>\n",
       "      <td>1</td>\n",
       "      <td>5</td>\n",
       "      <td>9</td>\n",
       "    </tr>\n",
       "    <tr>\n",
       "      <th>96</th>\n",
       "      <td>3</td>\n",
       "      <td>4</td>\n",
       "      <td>7</td>\n",
       "    </tr>\n",
       "    <tr>\n",
       "      <th>97</th>\n",
       "      <td>3</td>\n",
       "      <td>1</td>\n",
       "      <td>4</td>\n",
       "    </tr>\n",
       "    <tr>\n",
       "      <th>98</th>\n",
       "      <td>5</td>\n",
       "      <td>0</td>\n",
       "      <td>8</td>\n",
       "    </tr>\n",
       "    <tr>\n",
       "      <th>99</th>\n",
       "      <td>7</td>\n",
       "      <td>7</td>\n",
       "      <td>1</td>\n",
       "    </tr>\n",
       "  </tbody>\n",
       "</table>\n",
       "<p>100 rows × 3 columns</p>\n",
       "</div>"
      ],
      "text/plain": [
       "    MR_2  MR_3  MR_4\n",
       "0      5     6     9\n",
       "1      8     7     6\n",
       "2      7     3     4\n",
       "3      1     9     1\n",
       "4      2     6     2\n",
       "..   ...   ...   ...\n",
       "95     1     5     9\n",
       "96     3     4     7\n",
       "97     3     1     4\n",
       "98     5     0     8\n",
       "99     7     7     1\n",
       "\n",
       "[100 rows x 3 columns]"
      ]
     },
     "execution_count": 280,
     "metadata": {},
     "output_type": "execute_result"
    }
   ],
   "source": [
    "dfMRs"
   ]
  },
  {
   "cell_type": "code",
   "execution_count": 281,
   "metadata": {},
   "outputs": [
    {
     "data": {
      "text/html": [
       "<div>\n",
       "<style scoped>\n",
       "    .dataframe tbody tr th:only-of-type {\n",
       "        vertical-align: middle;\n",
       "    }\n",
       "\n",
       "    .dataframe tbody tr th {\n",
       "        vertical-align: top;\n",
       "    }\n",
       "\n",
       "    .dataframe thead th {\n",
       "        text-align: right;\n",
       "    }\n",
       "</style>\n",
       "<table border=\"1\" class=\"dataframe\">\n",
       "  <thead>\n",
       "    <tr style=\"text-align: right;\">\n",
       "      <th></th>\n",
       "      <th>input_a</th>\n",
       "      <th>input_b</th>\n",
       "      <th>operand</th>\n",
       "      <th>operand_str</th>\n",
       "    </tr>\n",
       "  </thead>\n",
       "  <tbody>\n",
       "    <tr>\n",
       "      <th>0</th>\n",
       "      <td>3</td>\n",
       "      <td>0</td>\n",
       "      <td>0</td>\n",
       "      <td>sum</td>\n",
       "    </tr>\n",
       "    <tr>\n",
       "      <th>1</th>\n",
       "      <td>7</td>\n",
       "      <td>5</td>\n",
       "      <td>1</td>\n",
       "      <td>sub</td>\n",
       "    </tr>\n",
       "    <tr>\n",
       "      <th>2</th>\n",
       "      <td>7</td>\n",
       "      <td>1</td>\n",
       "      <td>0</td>\n",
       "      <td>sum</td>\n",
       "    </tr>\n",
       "    <tr>\n",
       "      <th>3</th>\n",
       "      <td>4</td>\n",
       "      <td>0</td>\n",
       "      <td>0</td>\n",
       "      <td>sum</td>\n",
       "    </tr>\n",
       "    <tr>\n",
       "      <th>4</th>\n",
       "      <td>1</td>\n",
       "      <td>4</td>\n",
       "      <td>1</td>\n",
       "      <td>sub</td>\n",
       "    </tr>\n",
       "    <tr>\n",
       "      <th>...</th>\n",
       "      <td>...</td>\n",
       "      <td>...</td>\n",
       "      <td>...</td>\n",
       "      <td>...</td>\n",
       "    </tr>\n",
       "    <tr>\n",
       "      <th>95</th>\n",
       "      <td>8</td>\n",
       "      <td>7</td>\n",
       "      <td>0</td>\n",
       "      <td>sum</td>\n",
       "    </tr>\n",
       "    <tr>\n",
       "      <th>96</th>\n",
       "      <td>1</td>\n",
       "      <td>9</td>\n",
       "      <td>0</td>\n",
       "      <td>sum</td>\n",
       "    </tr>\n",
       "    <tr>\n",
       "      <th>97</th>\n",
       "      <td>3</td>\n",
       "      <td>1</td>\n",
       "      <td>0</td>\n",
       "      <td>sum</td>\n",
       "    </tr>\n",
       "    <tr>\n",
       "      <th>98</th>\n",
       "      <td>1</td>\n",
       "      <td>4</td>\n",
       "      <td>1</td>\n",
       "      <td>sub</td>\n",
       "    </tr>\n",
       "    <tr>\n",
       "      <th>99</th>\n",
       "      <td>9</td>\n",
       "      <td>7</td>\n",
       "      <td>0</td>\n",
       "      <td>sum</td>\n",
       "    </tr>\n",
       "  </tbody>\n",
       "</table>\n",
       "<p>100 rows × 4 columns</p>\n",
       "</div>"
      ],
      "text/plain": [
       "    input_a  input_b  operand operand_str\n",
       "0         3        0        0         sum\n",
       "1         7        5        1         sub\n",
       "2         7        1        0         sum\n",
       "3         4        0        0         sum\n",
       "4         1        4        1         sub\n",
       "..      ...      ...      ...         ...\n",
       "95        8        7        0         sum\n",
       "96        1        9        0         sum\n",
       "97        3        1        0         sum\n",
       "98        1        4        1         sub\n",
       "99        9        7        0         sum\n",
       "\n",
       "[100 rows x 4 columns]"
      ]
     },
     "execution_count": 281,
     "metadata": {},
     "output_type": "execute_result"
    }
   ],
   "source": [
    "df11"
   ]
  },
  {
   "cell_type": "code",
   "execution_count": 1,
   "metadata": {},
   "outputs": [
    {
     "ename": "NameError",
     "evalue": "name 'df11' is not defined",
     "output_type": "error",
     "traceback": [
      "\u001b[0;31m---------------------------------------------------------------------------\u001b[0m",
      "\u001b[0;31mNameError\u001b[0m                                 Traceback (most recent call last)",
      "\u001b[1;32m/Users/alduck/Documents/PhDStuff_repo/PasiveTestingUsingMTplusFuzzTesting/inputGenerator.ipynb Cell 14\u001b[0m in \u001b[0;36m<cell line: 1>\u001b[0;34m()\u001b[0m\n\u001b[0;32m----> <a href='vscode-notebook-cell:/Users/alduck/Documents/PhDStuff_repo/PasiveTestingUsingMTplusFuzzTesting/inputGenerator.ipynb#X16sZmlsZQ%3D%3D?line=0'>1</a>\u001b[0m df11\u001b[39m.\u001b[39mto_csv(\u001b[39m'\u001b[39m\u001b[39mfuzzerInputs_v11.csv\u001b[39m\u001b[39m'\u001b[39m)\n\u001b[1;32m      <a href='vscode-notebook-cell:/Users/alduck/Documents/PhDStuff_repo/PasiveTestingUsingMTplusFuzzTesting/inputGenerator.ipynb#X16sZmlsZQ%3D%3D?line=1'>2</a>\u001b[0m df12\u001b[39m.\u001b[39mto_csv(\u001b[39m'\u001b[39m\u001b[39mfuzzerInputs_v12.csv\u001b[39m\u001b[39m'\u001b[39m)\n\u001b[1;32m      <a href='vscode-notebook-cell:/Users/alduck/Documents/PhDStuff_repo/PasiveTestingUsingMTplusFuzzTesting/inputGenerator.ipynb#X16sZmlsZQ%3D%3D?line=2'>3</a>\u001b[0m df21\u001b[39m.\u001b[39mto_csv(\u001b[39m'\u001b[39m\u001b[39mfuzzerInputs_v21.csv\u001b[39m\u001b[39m'\u001b[39m)\n",
      "\u001b[0;31mNameError\u001b[0m: name 'df11' is not defined"
     ]
    }
   ],
   "source": [
    "df11.to_csv('fuzzerInputs_v11.csv')\n",
    "df12.to_csv('fuzzerInputs_v12.csv')\n",
    "df21.to_csv('fuzzerInputs_v21.csv')\n",
    "df22.to_csv('fuzzerInputs_v22.csv')\n",
    "dfMRs.to_csv('MRsInputs.csv')"
   ]
  }
 ],
 "metadata": {
  "kernelspec": {
   "display_name": "Python 3.10.8 64-bit",
   "language": "python",
   "name": "python3"
  },
  "language_info": {
   "codemirror_mode": {
    "name": "ipython",
    "version": 3
   },
   "file_extension": ".py",
   "mimetype": "text/x-python",
   "name": "python",
   "nbconvert_exporter": "python",
   "pygments_lexer": "ipython3",
   "version": "3.10.8"
  },
  "orig_nbformat": 4,
  "vscode": {
   "interpreter": {
    "hash": "908abd7e78fd4d71ba1be92795635fd82be5080a16e3cc7c1eae8bbfec458fa8"
   }
  }
 },
 "nbformat": 4,
 "nbformat_minor": 2
}
