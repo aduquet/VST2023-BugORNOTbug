{
 "cells": [
  {
   "cell_type": "code",
   "execution_count": null,
   "metadata": {},
   "outputs": [],
   "source": [
    "import sys\n",
    "!{sys.executable} -m pip3 install secrets"
   ]
  },
  {
   "cell_type": "code",
   "execution_count": null,
   "metadata": {},
   "outputs": [],
   "source": [
    "import numpy as np\n",
    "import pandas as pd\n",
    "import matplotlib.pyplot as plt\n",
    "import seaborn as sns\n",
    "import statsmodels.api as sm\n",
    "import scipy.stats as stats"
   ]
  },
  {
   "cell_type": "code",
   "execution_count": null,
   "metadata": {},
   "outputs": [],
   "source": []
  },
  {
   "cell_type": "code",
   "execution_count": null,
   "metadata": {},
   "outputs": [],
   "source": [
    "fullData = pd.read_csv('prueba.csv', index_col= 0)"
   ]
  },
  {
   "cell_type": "code",
   "execution_count": null,
   "metadata": {},
   "outputs": [],
   "source": [
    "fullData.keys()"
   ]
  },
  {
   "cell_type": "code",
   "execution_count": null,
   "metadata": {},
   "outputs": [],
   "source": [
    "MR1_sum = fullData.copy()\n",
    "MR1_sum.drop(MR1_sum[MR1_sum['operand'] != 'sum'].index, inplace = True)\n",
    "\n",
    "MR2_sum = fullData.copy()\n",
    "MR2_sum.drop(MR2_sum[MR2_sum['operand'] != 'sum'].index, inplace = True)\n",
    "\n",
    "MR3_sum = fullData.copy()\n",
    "MR3_sum.drop(MR3_sum[MR3_sum['operand'] != 'sum'].index, inplace = True)\n",
    "\n",
    "MR4_sum = fullData.copy()\n",
    "MR4_sum.drop(MR4_sum[MR4_sum['operand'] != 'sum'].index, inplace = True)\n"
   ]
  },
  {
   "cell_type": "code",
   "execution_count": null,
   "metadata": {},
   "outputs": [],
   "source": [
    "MR1_sub = fullData.copy()\n",
    "MR1_sub.drop(MR1_sub[MR1_sub['operand'] != 'sub'].index, inplace = True)\n",
    "\n",
    "MR2_sub = fullData.copy()\n",
    "MR2_sub.drop(MR2_sub[MR2_sub['operand'] != 'sub'].index, inplace = True)\n",
    "\n",
    "MR3_sub = fullData.copy()\n",
    "MR3_sub.drop(MR3_sub[MR3_sub['operand'] != 'sub'].index, inplace = True)\n",
    "\n",
    "MR4_sub = fullData.copy()\n",
    "MR4_sub.drop(MR4_sub[MR4_sub['operand'] != 'sub'].index, inplace = True)"
   ]
  },
  {
   "cell_type": "code",
   "execution_count": null,
   "metadata": {},
   "outputs": [],
   "source": [
    "MR1_mul = fullData.copy()\n",
    "MR1_mul.drop(MR1_mul[MR1_mul['operand'] != 'mul'].index, inplace = True)\n",
    "\n",
    "MR2_mul = fullData.copy()\n",
    "MR2_mul.drop(MR2_mul[MR2_mul['operand'] != 'mul'].index, inplace = True)\n",
    "\n",
    "MR3_mul = fullData.copy()\n",
    "MR3_mul.drop(MR3_mul[MR3_mul['operand'] != 'mul'].index, inplace = True)\n",
    "\n",
    "MR4_mul = fullData.copy()\n",
    "MR4_mul.drop(MR4_mul[MR4_mul['operand'] != 'mul'].index, inplace = True)"
   ]
  },
  {
   "cell_type": "code",
   "execution_count": null,
   "metadata": {},
   "outputs": [],
   "source": [
    "inputs_a = MR1_sub['input_a']\n",
    "inputs_b = MR1_sub['input_b']"
   ]
  },
  {
   "cell_type": "code",
   "execution_count": null,
   "metadata": {},
   "outputs": [],
   "source": [
    "sns.set_theme(style=\"whitegrid\")\n",
    "sns.countplot(x=MR1_sub[\"input_a\"])"
   ]
  },
  {
   "cell_type": "code",
   "execution_count": null,
   "metadata": {},
   "outputs": [],
   "source": [
    "sns.set_theme(style=\"whitegrid\")\n",
    "sns.countplot(x=MR1_sub[\"input_b\"])"
   ]
  },
  {
   "cell_type": "code",
   "execution_count": null,
   "metadata": {},
   "outputs": [],
   "source": [
    "inputs_a.value_counts()"
   ]
  },
  {
   "cell_type": "code",
   "execution_count": null,
   "metadata": {},
   "outputs": [],
   "source": [
    "inputs_b.value_counts()"
   ]
  },
  {
   "cell_type": "code",
   "execution_count": null,
   "metadata": {},
   "outputs": [],
   "source": [
    "MR1_sub['const'].value_counts()"
   ]
  },
  {
   "cell_type": "code",
   "execution_count": null,
   "metadata": {},
   "outputs": [],
   "source": [
    "df_count_MR1_sum = MR1_sum['MR1'].value_counts()\n",
    "df_count_MR2_sum = MR2_sum['MR2'].value_counts()\n",
    "df_count_MR3_sum = MR3_sum['MR3'].value_counts()\n",
    "df_count_MR4_sum = MR4_sum['MR4'].value_counts()"
   ]
  },
  {
   "cell_type": "code",
   "execution_count": null,
   "metadata": {},
   "outputs": [],
   "source": [
    "df_count_MR1_sub = MR1_sub['MR1'].value_counts()\n",
    "df_count_MR2_sub = MR2_sub['MR2'].value_counts()\n",
    "df_count_MR3_sub = MR3_sub['MR3'].value_counts()\n",
    "df_count_MR4_sub = MR4_sub['MR4'].value_counts()"
   ]
  },
  {
   "cell_type": "code",
   "execution_count": null,
   "metadata": {},
   "outputs": [],
   "source": [
    "df_count_MR1_mul = MR1_mul['MR1'].value_counts()\n",
    "df_count_MR2_mul = MR2_mul['MR2'].value_counts()\n",
    "df_count_MR3_mul = MR3_mul['MR3'].value_counts()\n",
    "df_count_MR4_mul = MR4_mul['MR4'].value_counts()"
   ]
  },
  {
   "cell_type": "code",
   "execution_count": null,
   "metadata": {},
   "outputs": [],
   "source": [
    "df_count_MR1_sum"
   ]
  },
  {
   "cell_type": "code",
   "execution_count": null,
   "metadata": {},
   "outputs": [],
   "source": [
    "palett = sns.color_palette(\"pastel\")\n",
    "pale = []\n",
    "pale.append(palett[0])\n",
    "pale.append(palett[1])"
   ]
  },
  {
   "cell_type": "code",
   "execution_count": null,
   "metadata": {},
   "outputs": [],
   "source": [
    "Novio = []\n",
    "Novio.append(palett[0])"
   ]
  },
  {
   "cell_type": "code",
   "execution_count": null,
   "metadata": {},
   "outputs": [],
   "source": [
    "palett"
   ]
  },
  {
   "cell_type": "code",
   "execution_count": null,
   "metadata": {},
   "outputs": [],
   "source": [
    "# labels = ['Violated', 'No-violated', ]\n",
    "labels = ['No-violated', ]"
   ]
  },
  {
   "cell_type": "code",
   "execution_count": null,
   "metadata": {},
   "outputs": [],
   "source": [
    "plt.pie(df_count_MR1_sum, labels=labels, autopct='%1.1f%%', startangle=90, colors=Novio)\n",
    "plt.title('MR1 in Function Sum')\n",
    "plt.show()"
   ]
  },
  {
   "cell_type": "code",
   "execution_count": null,
   "metadata": {},
   "outputs": [],
   "source": [
    "df_count_MR1_mul"
   ]
  },
  {
   "cell_type": "code",
   "execution_count": null,
   "metadata": {},
   "outputs": [],
   "source": [
    "labels = ['No-violated', ]\n",
    "plt.pie(df_count_MR1_mul, labels=labels, autopct='%1.1f%%', startangle=90, colors=Novio)\n",
    "plt.title('MR1 in Function Mul')\n",
    "plt.show()"
   ]
  },
  {
   "cell_type": "code",
   "execution_count": null,
   "metadata": {},
   "outputs": [],
   "source": [
    "df_count_MR2_mul"
   ]
  },
  {
   "cell_type": "code",
   "execution_count": null,
   "metadata": {},
   "outputs": [],
   "source": [
    "labels = ['No-violated', 'Violated']\n",
    "# labels = ['No-violated', ]\n",
    "plt.pie(df_count_MR2_mul, labels=labels, autopct='%1.1f%%', startangle=90, colors=pale)\n",
    "plt.title(' MR2 in Function mul')\n",
    "plt.show()"
   ]
  },
  {
   "cell_type": "code",
   "execution_count": null,
   "metadata": {},
   "outputs": [],
   "source": [
    "df_count_MR4_mul\n"
   ]
  },
  {
   "cell_type": "code",
   "execution_count": null,
   "metadata": {},
   "outputs": [],
   "source": [
    "labels = ['Violated', 'No-violated', ]\n",
    "# labels = ['No-violated', ]\n",
    "plt.pie(df_count_MR4_mul, labels=labels, autopct='%1.1f%%', startangle=90, colors=pale)\n",
    "plt.title(' MR4 in Function mul')\n",
    "plt.show()"
   ]
  },
  {
   "cell_type": "code",
   "execution_count": null,
   "metadata": {},
   "outputs": [],
   "source": [
    "df_count_MR3_mul"
   ]
  },
  {
   "cell_type": "code",
   "execution_count": null,
   "metadata": {},
   "outputs": [],
   "source": [
    "labels = ['Violated', ]\n",
    "plt.pie(df_count_MR3_mul, labels=labels, autopct='%1.1f%%', startangle=90, colors=Novio)\n",
    "plt.title('MR1 in Function Mul')\n",
    "plt.show()"
   ]
  },
  {
   "cell_type": "code",
   "execution_count": null,
   "metadata": {},
   "outputs": [],
   "source": [
    "labels = ['Violated', 'No-violated', ]\n",
    "# labels = ['No-violated', ]\n",
    "plt.pie(df_count_MR2_sum, labels=labels, autopct='%1.1f%%', startangle=90, colors=pale)\n",
    "plt.title(' MR2 in Function Sum')\n",
    "plt.show()"
   ]
  },
  {
   "cell_type": "code",
   "execution_count": null,
   "metadata": {},
   "outputs": [],
   "source": [
    "df_count_MR3_sum\n"
   ]
  },
  {
   "cell_type": "code",
   "execution_count": null,
   "metadata": {},
   "outputs": [],
   "source": [
    "Novio = []\n",
    "Novio.append(palett[1])\n",
    "labels = ['Violated', ]\n",
    "plt.pie(df_count_MR3_sum, labels=labels, autopct='%1.1f%%', startangle=90, colors=Novio)\n",
    "plt.title(' MR3 in Function Sum')\n",
    "plt.show()"
   ]
  },
  {
   "cell_type": "code",
   "execution_count": null,
   "metadata": {},
   "outputs": [],
   "source": [
    "df_count_MR4_sum"
   ]
  },
  {
   "cell_type": "code",
   "execution_count": null,
   "metadata": {},
   "outputs": [],
   "source": [
    "Novio = []\n",
    "Novio.append(palett[1])\n",
    "labels = ['Violated', ]\n",
    "plt.pie(df_count_MR4_sum, labels=labels, autopct='%1.1f%%', startangle=90, colors=Novio)\n",
    "plt.title('MR4 in Function Sum')\n",
    "plt.show()"
   ]
  },
  {
   "cell_type": "code",
   "execution_count": null,
   "metadata": {},
   "outputs": [],
   "source": [
    "##################################################################################################################################"
   ]
  },
  {
   "cell_type": "code",
   "execution_count": null,
   "metadata": {},
   "outputs": [],
   "source": [
    "df_count_MR1_sub"
   ]
  },
  {
   "cell_type": "code",
   "execution_count": null,
   "metadata": {},
   "outputs": [],
   "source": [
    "palett = sns.color_palette(\"pastel\")\n",
    "pale = []\n",
    "pale.append(palett[1])\n",
    "pale.append(palett[0])"
   ]
  },
  {
   "cell_type": "code",
   "execution_count": null,
   "metadata": {},
   "outputs": [],
   "source": [
    "df_count_MR4_mul"
   ]
  },
  {
   "cell_type": "code",
   "execution_count": null,
   "metadata": {},
   "outputs": [],
   "source": [
    "labels = ['Violated','No-violated' ]\n",
    "# labels = ['No-violated']\n",
    "no_Viio = []\n",
    "no_Viio.append(pale[0])\n",
    "sns.set_palette(\"pastel\")\n",
    "plt.pie(df_count_MR4_mul, labels=labels, autopct='%1.1f%%', startangle=90, colors= pale)\n",
    "plt.title('MR1 in Function Sub')\n",
    "\n",
    "\n",
    "plt.show()"
   ]
  },
  {
   "cell_type": "code",
   "execution_count": null,
   "metadata": {},
   "outputs": [],
   "source": [
    "df_count_MR2_sub"
   ]
  },
  {
   "cell_type": "code",
   "execution_count": null,
   "metadata": {},
   "outputs": [],
   "source": [
    "labels = ['Violated', 'No-violated']\n",
    "no_Viio = []\n",
    "no_Viio.append(pale[0])\n",
    "sns.set_palette(\"pastel\")\n",
    "plt.pie(df_count_MR2_sub, labels=labels, autopct='%1.1f%%', startangle=90, colors= pale)\n",
    "plt.title('MR2 in Function Sub')\n",
    "\n",
    "\n",
    "plt.show()"
   ]
  },
  {
   "cell_type": "code",
   "execution_count": null,
   "metadata": {},
   "outputs": [],
   "source": [
    "df_count_MR3_sub"
   ]
  },
  {
   "cell_type": "code",
   "execution_count": null,
   "metadata": {},
   "outputs": [],
   "source": [
    "palett = sns.color_palette(\"pastel\")\n",
    "pale = []\n",
    "pale.append(palett[1])\n",
    "pale.append(palett[0])"
   ]
  },
  {
   "cell_type": "code",
   "execution_count": null,
   "metadata": {},
   "outputs": [],
   "source": [
    "no_Viio = []\n",
    "no_Viio.append(pale[1])"
   ]
  },
  {
   "cell_type": "code",
   "execution_count": null,
   "metadata": {},
   "outputs": [],
   "source": [
    "# labels = ['Violated', 'No-violated']\n",
    "labels = ['No-violated', ]\n",
    "plt.pie(df_count_MR3_sub, labels=labels, autopct='%1.1f%%', startangle=90, colors=no_Viio)\n",
    "plt.title('MR3 in Function Sub')\n",
    "plt.show()"
   ]
  },
  {
   "cell_type": "code",
   "execution_count": null,
   "metadata": {},
   "outputs": [],
   "source": [
    "df_count_MR4_sub"
   ]
  },
  {
   "cell_type": "code",
   "execution_count": null,
   "metadata": {},
   "outputs": [],
   "source": [
    "labels = ['No-violated', ]\n",
    "plt.pie(df_count_MR4_sub, labels=labels, autopct='%1.1f%%', startangle=90, colors=no_Viio)\n",
    "plt.title('MR4 in Function Sub')\n",
    "plt.show()"
   ]
  }
 ],
 "metadata": {
  "kernelspec": {
   "display_name": "Python 3.10.8 64-bit",
   "language": "python",
   "name": "python3"
  },
  "language_info": {
   "codemirror_mode": {
    "name": "ipython",
    "version": 3
   },
   "file_extension": ".py",
   "mimetype": "text/x-python",
   "name": "python",
   "nbconvert_exporter": "python",
   "pygments_lexer": "ipython3",
   "version": "3.10.8"
  },
  "orig_nbformat": 4,
  "vscode": {
   "interpreter": {
    "hash": "908abd7e78fd4d71ba1be92795635fd82be5080a16e3cc7c1eae8bbfec458fa8"
   }
  }
 },
 "nbformat": 4,
 "nbformat_minor": 2
}
