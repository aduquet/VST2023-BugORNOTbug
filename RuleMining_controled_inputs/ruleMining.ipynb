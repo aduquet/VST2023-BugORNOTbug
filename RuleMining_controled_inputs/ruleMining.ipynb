{
 "cells": [
  {
   "cell_type": "code",
   "execution_count": null,
   "metadata": {},
   "outputs": [],
   "source": [
    "import sys\n",
    "!{sys.executable} -m pip install efficient_apriori"
   ]
  },
  {
   "cell_type": "code",
   "execution_count": null,
   "metadata": {},
   "outputs": [],
   "source": [
    "import pandas as pd\n",
    "import numpy as np\n",
    "import glob as gl\n",
    "import pickle\n",
    "from efficient_apriori import apriori\n",
    "import warnings\n",
    "import os\n",
    "import pathlib\n",
    "warnings.filterwarnings('ignore')"
   ]
  },
  {
   "cell_type": "code",
   "execution_count": null,
   "metadata": {},
   "outputs": [],
   "source": [
    "sub_MR1 = pd.read_csv('/Users/alduck/Documents/PhDStuff_repo/PasiveTestingUsingMTplusFuzzTesting/individual_logs_controled_inputs/FinalLog_controledInputs_sub_MR1.csv', index_col= 0)\n",
    "sub_MR2 = pd.read_csv('/Users/alduck/Documents/PhDStuff_repo/PasiveTestingUsingMTplusFuzzTesting/individual_logs_controled_inputs/FinalLog_controledInputs_sub_MR2.csv', index_col= 0)\n",
    "sub_MR3 = pd.read_csv('/Users/alduck/Documents/PhDStuff_repo/PasiveTestingUsingMTplusFuzzTesting/individual_logs_controled_inputs/FinalLog_controledInputs_sub_MR3.csv', index_col= 0)\n",
    "sub_MR4 = pd.read_csv('/Users/alduck/Documents/PhDStuff_repo/PasiveTestingUsingMTplusFuzzTesting/individual_logs_controled_inputs/FinalLog_controledInputs_sub_MR4.csv', index_col= 0)"
   ]
  },
  {
   "cell_type": "code",
   "execution_count": null,
   "metadata": {},
   "outputs": [],
   "source": [
    "sum_MR1 = pd.read_csv('/Users/alduck/Documents/PhDStuff_repo/PasiveTestingUsingMTplusFuzzTesting/individual_logs_controled_inputs/FinalLog_controledInputs_sum_MR1.csv', index_col= 0)\n",
    "sum_MR2 = pd.read_csv('/Users/alduck/Documents/PhDStuff_repo/PasiveTestingUsingMTplusFuzzTesting/individual_logs_controled_inputs/FinalLog_controledInputs_sum_MR2.csv', index_col= 0)\n",
    "sum_MR3 = pd.read_csv('/Users/alduck/Documents/PhDStuff_repo/PasiveTestingUsingMTplusFuzzTesting/individual_logs_controled_inputs/FinalLog_controledInputs_sum_MR3.csv', index_col= 0)\n",
    "sum_MR4 = pd.read_csv('/Users/alduck/Documents/PhDStuff_repo/PasiveTestingUsingMTplusFuzzTesting/individual_logs_controled_inputs/FinalLog_controledInputs_sum_MR4.csv', index_col= 0)"
   ]
  },
  {
   "cell_type": "code",
   "execution_count": null,
   "metadata": {},
   "outputs": [],
   "source": [
    "def prepro(data, MR):\n",
    "    if(MR==1):\n",
    "        MR_name = list(sub_MR1.keys())[-1]\n",
    "    if(MR==2):\n",
    "        MR_name = list(sub_MR2.keys())[-1]\n",
    "    if(MR==3):\n",
    "        MR_name = list(sub_MR3.keys())[-1]\n",
    "    if(MR==4):\n",
    "        MR_name = list(sub_MR4.keys())[-1]\n",
    "        \n",
    "    for index, row in data.iterrows():\n",
    "        auxR1 = row[MR_name]\n",
    "\n",
    "        if(MR==1):\n",
    "            data.at[index, MR_name] = MR_name + ' == ' + auxR1\n",
    "            data.at[index, 'input_a'] =  'input_a == ' + str(row['input_a'])\n",
    "            data.at[index, 'input_b'] = 'input_b == ' + str(row['input_b'])\n",
    "            data.at[index, 'output'] = 'output == ' + str(row['output'])\n",
    "            data.at[index, 'MR1_input_a'] =  'MR1_input_a == ' + str(row['MR1_input_a'])\n",
    "            data.at[index, 'MR1_input_b'] = 'MR1_input_b == ' + str(row['MR1_input_b'])\n",
    "            data.at[index, 'MR1_inputs'] = 'MR1_inputs == ' + str(row['MR1_inputs'])\n",
    "            data.at[index, 'MR1_output'] = 'MR1_output == ' + str(row['MR1_output'])\n",
    "        if(MR==2):\n",
    "            data.at[index, MR_name] = MR_name + ' == ' + auxR1\n",
    "            data.at[index, 'input_a'] =  'input_a == ' + str(row['input_a'])\n",
    "            data.at[index, 'input_b'] = 'input_b == ' + str(row['input_b'])\n",
    "            data.at[index, 'output'] = 'output == ' + str(row['output'])\n",
    "            data.at[index, 'MR2_input_a'] =  'MR2_input_a == ' + str(row['MR2_input_a'])\n",
    "            data.at[index, 'MR2_input_b'] = 'MR2_input_b == ' + str(row['MR2_input_b'])\n",
    "            data.at[index, 'MR2_inputs'] = 'MR2_inputs == ' + str(row['MR2_inputs'])\n",
    "            data.at[index, 'MR2_output'] = 'MR2_output == ' + str(row['MR2_output'])\n",
    "        if(MR==3):\n",
    "            data.at[index, MR_name] = MR_name + ' == ' + auxR1\n",
    "            data.at[index, 'input_a'] =  'input_a == ' + str(row['input_a'])\n",
    "            data.at[index, 'input_b'] = 'input_b == ' + str(row['input_b'])\n",
    "            data.at[index, 'output'] = 'output == ' + str(row['output'])\n",
    "            data.at[index, 'MR3_input_a'] =  'MR3_input_a == ' + str(row['MR3_input_a'])\n",
    "            data.at[index, 'MR3_input_b'] = 'MR3_input_b == ' + str(row['MR3_input_b'])\n",
    "            data.at[index, 'MR3_inputs'] = 'MR3_inputs == ' + str(row['MR3_inputs'])\n",
    "            data.at[index, 'MR3_output'] = 'MR3_output == ' + str(row['MR3_output'])\n",
    "        if(MR==4):\n",
    "            data.at[index, MR_name] = MR_name + ' == ' + auxR1\n",
    "            data.at[index, 'input_a'] =  'input_a == ' + str(row['input_a'])\n",
    "            data.at[index, 'input_b'] = 'input_b == ' + str(row['input_b'])\n",
    "            data.at[index, 'output'] = 'output == ' + str(row['output'])\n",
    "            data.at[index, 'MR4_input_a'] =  'MR4_input_a == ' + str(row['MR4_input_a'])\n",
    "            data.at[index, 'MR4_input_b'] = 'MR4_input_b == ' + str(row['MR4_input_b'])\n",
    "            data.at[index, 'MR4_inputs'] = 'MR4_inputs == ' + str(row['MR4_inputs'])\n",
    "            data.at[index, 'MR4_output'] = 'MR4_output == ' + str(row['MR4_output'])\n",
    "\n",
    "    if(MR == 1):\n",
    "        data1 = data[[\"(a,b)\",'MR1_checker']]\n",
    "        data2 = data[[\"(a,b)\",'output','MR1_checker']]\n",
    "        data3 = data[[\"(a,b)\",'input_a','input_b','MR1_checker']]\n",
    "        data4 = data[['input_a', 'input_b', 'MR1_input_a', 'MR1_input_b', 'MR1_checker']]\n",
    "        data5 = data[['input_a', 'input_b', 'output', 'MR1_input_a', 'MR1_input_b','MR1_checker']]\n",
    "        data6 = data[['input_a', 'input_b', 'output', 'MR1_input_a', 'MR1_input_b', 'MR1_output','MR1_checker']]\n",
    "        data7 = data[['(a,b)', 'input_a', 'input_b', 'output', 'MR1_input_a', 'MR1_input_b', 'MR1_inputs', 'MR1_output','MR1_checker']]\n",
    "\n",
    "        return data1, data2, data3, data4, data5, data6, data7\n",
    "\n",
    "    \n",
    "    if(MR == 2):\n",
    "        data1 = data[[\"(a,b)\",'MR2_checker']]\n",
    "        data2 = data[[\"(a,b)\",'output','MR2_checker']]\n",
    "        data3 = data[[\"(a,b)\",'input_a','input_b','MR2_checker']]\n",
    "        data4 = data[['input_a', 'input_b', 'MR2_input_a', 'MR2_input_b', 'MR2_checker']]\n",
    "        data5 = data[['input_a', 'input_b', 'output', 'MR2_input_a', 'MR2_input_b','MR2_checker']]\n",
    "        data6 = data[['input_a', 'input_b', 'output', 'MR2_input_a', 'MR2_input_b', 'MR2_output','MR2_checker']]\n",
    "        data7 = data[['(a,b)', 'input_a', 'input_b', 'output', 'MR2_input_a', 'MR2_input_b', 'MR2_inputs', 'MR2_output','MR2_checker']]\n",
    "\n",
    "        return data1, data2, data3, data4, data5, data6, data7\n",
    "    \n",
    "    if(MR == 3):\n",
    "        data1 = data[[\"(a,b)\",'MR3_checker']]\n",
    "        data2 = data[[\"(a,b)\",'output','MR3_checker']]\n",
    "        data3 = data[[\"(a,b)\",'input_a','input_b','MR3_checker']]\n",
    "        data4 = data[['input_a', 'input_b', 'MR3_input_a', 'MR3_input_b', 'MR3_checker']]\n",
    "        data5 = data[['input_a', 'input_b', 'output', 'MR3_input_a', 'MR3_input_b','MR3_checker']]\n",
    "        data6 = data[['input_a', 'input_b', 'output', 'MR3_input_a', 'MR3_input_b', 'MR3_output','MR3_checker']]\n",
    "        data7 = data[['(a,b)', 'input_a', 'input_b', 'output', 'MR3_input_a', 'MR3_input_b', 'MR3_inputs', 'MR3_output','MR3_checker']]\n",
    "\n",
    "        return data1, data2, data3, data4, data5, data6, data7\n",
    "\n",
    "    if(MR == 4):\n",
    "        data1 = data[[\"(a,b)\",'MR4_checker']]\n",
    "        data2 = data[[\"(a,b)\",'output','MR4_checker']]\n",
    "        data3 = data[[\"(a,b)\",'input_a','input_b','MR4_checker']]\n",
    "        data4 = data[['input_a', 'input_b', 'MR4_input_a', 'MR4_input_b', 'MR4_checker']]\n",
    "        data5 = data[['input_a', 'input_b', 'output', 'MR4_input_a', 'MR4_input_b','MR4_checker']]\n",
    "        data6 = data[['input_a', 'input_b', 'output', 'MR4_input_a', 'MR4_input_b', 'MR4_output','MR4_checker']]\n",
    "        data7 = data[['(a,b)', 'input_a', 'input_b', 'output', 'MR4_input_a', 'MR4_input_b', 'MR4_inputs', 'MR4_output','MR4_checker']]\n",
    "\n",
    "        return data1, data2, data3, data4, data5, data6, data7\n"
   ]
  },
  {
   "cell_type": "code",
   "execution_count": null,
   "metadata": {},
   "outputs": [],
   "source": [
    "# data_sub1, data_sub2, data_sub3, data_sub4, data_sub5, data_sub6, data_sub7 = prepro(sub_MR1, 1)\n",
    "# data_sub1, data_sub2, data_sub3, data_sub4, data_sub5, data_sub6, data_sub7 = prepro(sub_MR2, 2)\n",
    "# data_sub1, data_sub2, data_sub3, data_sub4, data_sub5, data_sub6, data_sub7 = prepro(sub_MR3, 3)\n",
    "data_sub1, data_sub2, data_sub3, data_sub4, data_sub5, data_sub6, data_sub7 = prepro(sub_MR4, 4)"
   ]
  },
  {
   "cell_type": "code",
   "execution_count": null,
   "metadata": {},
   "outputs": [],
   "source": [
    "# data_sum1, data_sum2, data_sum3, data_sum4, data_sum5, data_sum6, data_sum7 = prepro(sum_MR1, 1)\n",
    "# data_sum1, data_sum2, data_sum3, data_sum4, data_sum5, data_sum6, data_sum7  = prepro(sum_MR2, 2)\n",
    "# data_sum1, data_sum2, data_sum3, data_sum4, data_sum5, data_sum6, data_sum7  = prepro(sum_MR3, 3)\n",
    "data_sum1, data_sum2, data_sum3, data_sum4, data_sum5, data_sum6, data_sum7 = prepro(sum_MR4, 4)\n"
   ]
  },
  {
   "cell_type": "code",
   "execution_count": null,
   "metadata": {},
   "outputs": [],
   "source": [
    "def ruleGenerator(transactions_df, support, conf):\n",
    "    \"\"\"\n",
    "        Generate set of rules with given support and confidence using transactions_df\n",
    "    \"\"\"\n",
    "    # print(transactions_df.head(20))\n",
    "    transactions_array = transactions_df.to_numpy()\n",
    "    transactions_list = transactions_array.tolist()\n",
    "    itemSets, rules = apriori(transactions_list, min_support=support, min_confidence=conf)\n",
    "    return itemSets, rules\n"
   ]
  },
  {
   "cell_type": "code",
   "execution_count": null,
   "metadata": {},
   "outputs": [],
   "source": [
    "items1, rules1 = ruleGenerator(data_sub1, 0.01, float(1))\n",
    "items2, rules2 = ruleGenerator(data_sub2, 0.01, float(1))\n",
    "items3, rules3 = ruleGenerator(data_sub3, 0.01, float(1))\n",
    "items4, rules4 = ruleGenerator(data_sub4, 0.01, float(1))\n",
    "items5, rules5 = ruleGenerator(data_sub5, 0.1, float(1))\n",
    "items6, rules6 = ruleGenerator(data_sub6, 0.1, float(1))\n",
    "items7, rules7 = ruleGenerator(data_sub7, 0.1, float(1))\n"
   ]
  },
  {
   "cell_type": "code",
   "execution_count": null,
   "metadata": {},
   "outputs": [],
   "source": [
    "items1_sum, rules1_sum = ruleGenerator(data_sum1, 0.01, float(1))\n",
    "items2_sum, rules2_sum = ruleGenerator(data_sum2, 0.01, float(1))\n",
    "items3_sum, rules3_sum = ruleGenerator(data_sum3, 0.01, float(1))\n",
    "items4_sum, rules4_sum = ruleGenerator(data_sum4, 0.01, float(1))\n",
    "items5_sum, rules5_sum = ruleGenerator(data_sum5, 0.1, float(1))\n",
    "items6_sum, rules6_sum = ruleGenerator(data_sum6, 0.1, float(1))\n",
    "items7_sum, rules7_sum = ruleGenerator(data_sum7, 0.1, float(1))"
   ]
  },
  {
   "cell_type": "code",
   "execution_count": null,
   "metadata": {},
   "outputs": [],
   "source": [
    "def ruleGen(items, rules1):\n",
    "    sets1 = []\n",
    "    sets2 = []\n",
    "    dfListUnion = []\n",
    "    dfListIntersection = []\n",
    "    sets1.append(set(rules1))\n",
    "    sets2.append(set(items))\n",
    "\n",
    "    union = set.union(*sets1)\n",
    "    lUnion = list(union)\n",
    "\n",
    "    for rul in range(0, len(lUnion)):\n",
    "                dfAux_union = {'LHS': tuple(lUnion[rul].lhs), 'LHS_size': len(lUnion[rul].lhs),\n",
    "                            'RHS': tuple(lUnion[rul].rhs), 'RHS_size': len(lUnion[rul].rhs),\n",
    "                            'conf': lUnion[rul].confidence,\n",
    "                            'sup': lUnion[rul].support, 'lift': lUnion[rul].lift, 'cov': lUnion[rul].conviction}\n",
    "                dfListUnion.append(dfAux_union)\n",
    "\n",
    "    dfRule = pd.DataFrame(dfListUnion)\n",
    "\n",
    "    return dfRule"
   ]
  },
  {
   "cell_type": "code",
   "execution_count": null,
   "metadata": {},
   "outputs": [],
   "source": [
    "dfRule1 = ruleGen(items1, rules1)\n",
    "dfRule2 = ruleGen(items2, rules2)\n",
    "dfRule3 = ruleGen(items3, rules3)\n",
    "dfRule4 = ruleGen(items4, rules4)\n",
    "dfRule5 = ruleGen(items5, rules5)\n",
    "dfRule6 = ruleGen(items6, rules6)\n",
    "dfRule7 = ruleGen(items7, rules7)"
   ]
  },
  {
   "cell_type": "code",
   "execution_count": null,
   "metadata": {},
   "outputs": [],
   "source": [
    "dfRule1_sum = ruleGen(items1_sum, rules1_sum)\n",
    "dfRule2_sum = ruleGen(items2_sum, rules2_sum)\n",
    "dfRule3_sum = ruleGen(items3_sum, rules3_sum)\n",
    "dfRule4_sum = ruleGen(items4_sum, rules4_sum)\n",
    "dfRule5_sum = ruleGen(items5_sum, rules5_sum)\n",
    "dfRule6_sum = ruleGen(items6_sum, rules6_sum)\n",
    "dfRule7_sum = ruleGen(items7_sum, rules7_sum)"
   ]
  },
  {
   "cell_type": "code",
   "execution_count": null,
   "metadata": {},
   "outputs": [],
   "source": [
    "# dfRule1.to_csv('rules_sub_MR1_1.csv')\n",
    "# dfRule2.to_csv('rules_sub_MR1_2.csv')\n",
    "# dfRule3.to_csv('rules_sub_MR1_3.csv')\n",
    "# dfRule4.to_csv('rules_sub_MR1_4.csv')\n",
    "# dfRule5.to_csv('rules_sub_MR1_5.csv')\n",
    "# dfRule6.to_csv('rules_sub_MR1_6.csv')\n",
    "# dfRule7.to_csv('rules_sub_MR1_7.csv')"
   ]
  },
  {
   "cell_type": "code",
   "execution_count": null,
   "metadata": {},
   "outputs": [],
   "source": [
    "# dfRule1_sum.to_csv('rules_sum_MR1_1.csv')\n",
    "# dfRule2_sum.to_csv('rules_sum_MR1_2.csv')\n",
    "# dfRule3_sum.to_csv('rules_sum_MR1_3.csv')\n",
    "# dfRule4_sum.to_csv('rules_sum_MR1_4.csv')\n",
    "# dfRule5_sum.to_csv('rules_sum_MR1_5.csv')\n",
    "# dfRule6_sum.to_csv('rules_sum_MR1_6.csv')\n",
    "# dfRule7_sum.to_csv('rules_sum_MR1_7.csv')"
   ]
  },
  {
   "cell_type": "code",
   "execution_count": null,
   "metadata": {},
   "outputs": [],
   "source": [
    "# dfRule1.to_csv('rules_sub_MR2_1.csv')\n",
    "# dfRule2.to_csv('rules_sub_MR2_2.csv')\n",
    "# dfRule3.to_csv('rules_sub_MR2_3.csv')\n",
    "# dfRule4.to_csv('rules_sub_MR2_4.csv')\n",
    "# dfRule5.to_csv('rules_sub_MR2_5.csv')\n",
    "# dfRule6.to_csv('rules_sub_MR2_6.csv')\n",
    "# dfRule7.to_csv('rules_sub_MR2_7.csv')"
   ]
  },
  {
   "cell_type": "code",
   "execution_count": null,
   "metadata": {},
   "outputs": [],
   "source": [
    "# dfRule1_sum.to_csv('rules_sum_MR2_1.csv')\n",
    "# dfRule2_sum.to_csv('rules_sum_MR2_2.csv')\n",
    "# dfRule3_sum.to_csv('rules_sum_MR2_3.csv')\n",
    "# dfRule4_sum.to_csv('rules_sum_MR2_4.csv')\n",
    "# dfRule5_sum.to_csv('rules_sum_MR2_5.csv')\n",
    "# dfRule6_sum.to_csv('rules_sum_MR2_6.csv')\n",
    "# dfRule7_sum.to_csv('rules_sum_MR2_7.csv')"
   ]
  },
  {
   "cell_type": "code",
   "execution_count": null,
   "metadata": {},
   "outputs": [],
   "source": [
    "# dfRule1.to_csv('rules_sub_MR3_1.csv')\n",
    "# dfRule2.to_csv('rules_sub_MR3_2.csv')\n",
    "# dfRule3.to_csv('rules_sub_MR3_3.csv')\n",
    "# dfRule4.to_csv('rules_sub_MR3_4.csv')\n",
    "# dfRule5.to_csv('rules_sub_MR3_5.csv')\n",
    "# dfRule6.to_csv('rules_sub_MR3_6.csv')\n",
    "# dfRule7.to_csv('rules_sub_MR3_7.csv')"
   ]
  },
  {
   "cell_type": "code",
   "execution_count": null,
   "metadata": {},
   "outputs": [],
   "source": [
    "# dfRule1_sum.to_csv('rules_sum_MR3_1.csv')\n",
    "# dfRule2_sum.to_csv('rules_sum_MR3_2.csv')\n",
    "# dfRule3_sum.to_csv('rules_sum_MR3_3.csv')\n",
    "# dfRule4_sum.to_csv('rules_sum_MR3_4.csv')\n",
    "# dfRule5_sum.to_csv('rules_sum_MR3_5.csv')\n",
    "# dfRule6_sum.to_csv('rules_sum_MR3_6.csv')\n",
    "# dfRule7_sum.to_csv('rules_sum_MR3_7.csv')"
   ]
  },
  {
   "cell_type": "code",
   "execution_count": null,
   "metadata": {},
   "outputs": [],
   "source": [
    "dfRule1.to_csv('rules_sub_MR4_1.csv')\n",
    "dfRule2.to_csv('rules_sub_MR4_2.csv')\n",
    "dfRule3.to_csv('rules_sub_MR4_3.csv')\n",
    "dfRule4.to_csv('rules_sub_MR4_4.csv')\n",
    "dfRule5.to_csv('rules_sub_MR4_5.csv')\n",
    "dfRule6.to_csv('rules_sub_MR4_6.csv')\n",
    "dfRule7.to_csv('rules_sub_MR4_7.csv')"
   ]
  },
  {
   "cell_type": "code",
   "execution_count": null,
   "metadata": {},
   "outputs": [],
   "source": [
    "dfRule1_sum.to_csv('rules_sum_MR4_1.csv')\n",
    "dfRule2_sum.to_csv('rules_sum_MR4_2.csv')\n",
    "dfRule3_sum.to_csv('rules_sum_MR4_3.csv')\n",
    "dfRule4_sum.to_csv('rules_sum_MR4_4.csv')\n",
    "dfRule5_sum.to_csv('rules_sum_MR4_5.csv')\n",
    "dfRule6_sum.to_csv('rules_sum_MR4_6.csv')\n",
    "dfRule7_sum.to_csv('rules_sum_MR4_7.csv')"
   ]
  }
 ],
 "metadata": {
  "kernelspec": {
   "display_name": "Python 3.10.8 64-bit",
   "language": "python",
   "name": "python3"
  },
  "language_info": {
   "codemirror_mode": {
    "name": "ipython",
    "version": 3
   },
   "file_extension": ".py",
   "mimetype": "text/x-python",
   "name": "python",
   "nbconvert_exporter": "python",
   "pygments_lexer": "ipython3",
   "version": "3.10.8"
  },
  "orig_nbformat": 4,
  "vscode": {
   "interpreter": {
    "hash": "908abd7e78fd4d71ba1be92795635fd82be5080a16e3cc7c1eae8bbfec458fa8"
   }
  }
 },
 "nbformat": 4,
 "nbformat_minor": 2
}
